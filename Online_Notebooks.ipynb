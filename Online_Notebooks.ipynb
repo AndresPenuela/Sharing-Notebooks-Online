{
 "cells": [
  {
   "cell_type": "markdown",
   "metadata": {},
   "source": [
    "# How to create an interactive Jupyuter Notebook and share it online\n",
    "\n",
    "## Example: Manual calibration of sound wave"
   ]
  },
  {
   "cell_type": "code",
   "execution_count": 1,
   "metadata": {},
   "outputs": [],
   "source": [
    "import numpy as np\n",
    "from bqplot import pyplot as plt\n",
    "import ipywidgets as widgets\n",
    "from black_curve import black_curve"
   ]
  },
  {
   "cell_type": "markdown",
   "metadata": {},
   "source": [
    "<left><img src=\"Images/Standing_wave.gif\" width=\"400px\">\n",
    "\n",
    "A sound wave can be represented as a sine wave curve with a certain amplitude, phase and frequency using the following equation:\n",
    "\n",
    "$y(x) = A \\sin(2 \\pi(\\nu x + \\phi ))$\n",
    "\n",
    "where\n",
    "\n",
    "$A = amplitude$\n",
    "\n",
    "$\\phi = phase$\n",
    "\n",
    "$\\nu = frequency$"
   ]
  },
  {
   "cell_type": "code",
   "execution_count": 2,
   "metadata": {},
   "outputs": [],
   "source": [
    "xk,yk = black_curve()\n",
    "\n",
    "x = np.linspace(0,1,500) # x axis from 0 to 1 with a 1/500 step"
   ]
  },
  {
   "cell_type": "markdown",
   "metadata": {},
   "source": [
    "Now you can change the values of amplitude, phase and frequency in the code cell below, trying to better fit the black curve (that is, to achieve RMSE = 0). Remember to run the cell after changing the values, so that you can see the changes in the figure above."
   ]
  },
  {
   "cell_type": "code",
   "execution_count": 3,
   "metadata": {},
   "outputs": [
    {
     "data": {
      "application/vnd.jupyter.widget-view+json": {
       "model_id": "de2ba40322544330867f5be0387d033e",
       "version_major": 2,
       "version_minor": 0
      },
      "text/plain": [
       "VBox(children=(FloatSlider(value=10.0, description='Amplitude: ', max=15.0, min=1.0), FloatSlider(value=10.0, …"
      ]
     },
     "metadata": {},
     "output_type": "display_data"
    }
   ],
   "source": [
    "def update_sin_wave(x,amp,freq,phase):\n",
    "    sin_wave = amp * np.sin(2 * np.pi * (freq * x + phase))\n",
    "    RMSE = np.sqrt(((sin_wave - yk) ** 2).mean())\n",
    "    return sin_wave,RMSE\n",
    "\n",
    "def params_changed(change):\n",
    "    y_vals = update_sin_wave(x,amp.value,freq.value,phase.value)[0]\n",
    "    sin_wave.y = y_vals\n",
    "    RMSE = update_sin_wave(x,amp.value,freq.value,phase.value)[1]\n",
    "    fig.title = 'RMSE = ' +str(\"%.2f\" % RMSE)\n",
    "    \n",
    "amp = widgets.FloatSlider(min=1,max=15,value=10, description = 'Amplitude: ')\n",
    "amp.observe(params_changed,'value')\n",
    "phase = widgets.FloatSlider(min=0,max=1,value=1, description = 'Phase: ')\n",
    "phase.observe(params_changed,'value')\n",
    "freq = widgets.FloatSlider(min=1,max=10,value=10, description = 'Frequency: ')\n",
    "freq.observe(params_changed,'value')\n",
    "\n",
    "# First, let's create a scale for the x attribute, and a scale for the y attribute\n",
    "x_sc = plt.LinearScale(min=0,max=1)\n",
    "y_sc = plt.LinearScale(min=-20,max=20)\n",
    "# Then we can define some of the features of the plot axes such as their labels.\n",
    "x_ax = plt.Axis(label='x', scale=x_sc)\n",
    "y_ax = plt.Axis(label='y', scale=y_sc, orientation='vertical')\n",
    "fig = plt.figure(scales={'x': x_sc, 'y': y_sc}, axes=[x_ax, y_ax], \n",
    "                   title = 'RMSE = '+str(\"%.2f\" % update_sin_wave(x,amp.value,freq.value,phase.value)[1]), \n",
    "                   layout={'min_width': '900px', 'max_height': '300px'}, animation_duration = 1000)\n",
    "sin_wave = plt.plot(x,update_sin_wave(x,amp.value,freq.value,phase.value)[0])\n",
    "plt.plot(xk,yk,'k')\n",
    "plt.xlim(0,1)\n",
    "plt.ylim(-20,20)\n",
    "sin_wave.observe(params_changed, ['x', 'y'])\n",
    "\n",
    "widgets.VBox([amp, freq, phase,fig])"
   ]
  },
  {
   "cell_type": "markdown",
   "metadata": {},
   "source": [
    "## How to share this Notebook online\n",
    "Threre are many options to share your Jupyter Notebooks online but here we present only three of them.\n",
    "\n",
    "### Option 1: GitHub + MyBinder\n",
    "Step 1: you need to have GitHub account. If you don't, you can easily create one on https://github.com/\n",
    "\n",
    "Step 2: name the repo \"Sharing-Notebooks-Online\". If you'd like a different name, feel free to name it something else; just keep in mind that we will use this repo name in later parts of the tutorial.\n",
    "\n",
    "Step 3: once you are inside of this repository click on \"Upload files\" and then choose all the files and subfolder contained in the folder \"WR demo\"\n",
    "\n",
    "Second, you need to create a txt file listing all the libraries required, in this case:\n",
    "\n",
    "numpy\n",
    "\n",
    "ipywidgets\n",
    "\n",
    "bqplot\n",
    "\n",
    "We then save the file in the same folder where our Notebook is."
   ]
  },
  {
   "cell_type": "markdown",
   "metadata": {},
   "source": [
    "### Option 2: Stand alone webpage\n",
    "<left><img src=\"Images/Tutorial_image_1.png\" width=\"800px\">"
   ]
  },
  {
   "cell_type": "markdown",
   "metadata": {},
   "source": [
    "#### Installs nbinteract\n",
    "pip install nbinteract\n",
    "\n",
    "#### Initializes nbinteract. When prompted, create a requirements.txt file. Since we aren't adding additional packages in this tutorial, re-run the command to finish initialization.\n",
    "nbinteract init\n",
    "\n",
    "git add -A\n",
    "\n",
    "git commit -m \"Setup nbinteract\"\n",
    "\n",
    "git push origin master\n",
    "\n",
    "nbinteract WR_demo.ipynb\n",
    "\n",
    "git config --global user.email \"you@example.com\"\n",
    "\n",
    "git config --global user.name \"Your username\"\n",
    "\n",
    "git add -A\n",
    "\n",
    "git commit -m \"Publish nb\"\n",
    "\n",
    "git push origin master\n",
    "\n",
    "https://{username}.github.io/Sharing-Notebooks-Online/WR_demo.html\n",
    "\n",
    "Where {username} is replaced with your GitHub username. For example:\n",
    "\n",
    "https://andrespenuela.github.io/Sharing-Notebooks-Online/WR_demo.html"
   ]
  },
  {
   "cell_type": "raw",
   "metadata": {},
   "source": []
  },
  {
   "cell_type": "markdown",
   "metadata": {},
   "source": [
    "### Option 3: Microsoft Azure Notebooks"
   ]
  },
  {
   "cell_type": "code",
   "execution_count": null,
   "metadata": {},
   "outputs": [],
   "source": []
  }
 ],
 "metadata": {
  "kernelspec": {
   "display_name": "Python 3",
   "language": "python",
   "name": "python3"
  },
  "language_info": {
   "codemirror_mode": {
    "name": "ipython",
    "version": 3
   },
   "file_extension": ".py",
   "mimetype": "text/x-python",
   "name": "python",
   "nbconvert_exporter": "python",
   "pygments_lexer": "ipython3",
   "version": "3.6.5"
  },
  "varInspector": {
   "cols": {
    "lenName": 16,
    "lenType": 16,
    "lenVar": 40
   },
   "kernels_config": {
    "python": {
     "delete_cmd_postfix": "",
     "delete_cmd_prefix": "del ",
     "library": "var_list.py",
     "varRefreshCmd": "print(var_dic_list())"
    },
    "r": {
     "delete_cmd_postfix": ") ",
     "delete_cmd_prefix": "rm(",
     "library": "var_list.r",
     "varRefreshCmd": "cat(var_dic_list()) "
    }
   },
   "types_to_exclude": [
    "module",
    "function",
    "builtin_function_or_method",
    "instance",
    "_Feature"
   ],
   "window_display": false
  }
 },
 "nbformat": 4,
 "nbformat_minor": 2
}
