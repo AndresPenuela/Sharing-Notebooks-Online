{
 "cells": [
  {
   "cell_type": "markdown",
   "metadata": {},
   "source": [
    "# How to create an interactive Jupyuter Notebook and share it online\n",
    "\n",
    "## Example: Manual calibration of sound wave\n",
    "In this example we are going to try to calibrate a sine curve to imitate a recorded sound wave."
   ]
  },
  {
   "cell_type": "code",
   "execution_count": 1,
   "metadata": {},
   "outputs": [],
   "source": [
    "# Libraries\n",
    "import numpy as np\n",
    "from bqplot import pyplot as plt\n",
    "import ipywidgets as widgets\n",
    "# Sub-modules\n",
    "from sound_wave import sound_wave"
   ]
  },
  {
   "cell_type": "markdown",
   "metadata": {},
   "source": [
    "<left><img src=\"Images/Standing_wave.gif\" width=\"400px\">\n",
    "\n",
    "A sound wave can be represented as a sine curve with a certain amplitude, phase and frequency using the following equation:\n",
    "\n",
    "$y(x) = A \\sin(2 \\pi(\\nu x + \\phi ))$\n",
    "\n",
    "where\n",
    "\n",
    "$A = amplitude$\n",
    "\n",
    "$\\phi = phase$\n",
    "\n",
    "$\\nu = frequency$"
   ]
  },
  {
   "cell_type": "code",
   "execution_count": 2,
   "metadata": {},
   "outputs": [],
   "source": [
    "# First I define the observed sound wave that I want to \n",
    "xk,yk = sound_wave()\n",
    "\n",
    "x = np.linspace(0,1,500) # x axis from 0 to 1 with a 1/500 step"
   ]
  },
  {
   "cell_type": "markdown",
   "metadata": {},
   "source": [
    "Now using the sliders you can change the values of amplitude, phase and frequency trying to better fit the sine curve in blue to the sound wave in black (that is, to achieve RMSE = 0)."
   ]
  },
  {
   "cell_type": "code",
   "execution_count": 18,
   "metadata": {},
   "outputs": [
    {
     "data": {
      "application/vnd.jupyter.widget-view+json": {
       "model_id": "58e543d6b3534ad38e48e6e5263cb41a",
       "version_major": 2,
       "version_minor": 0
      },
      "text/plain": [
       "VBox(children=(FloatSlider(value=8.0, description='Amplitude: ', max=15.0, min=1.0), FloatSlider(value=5.5, de…"
      ]
     },
     "metadata": {},
     "output_type": "display_data"
    }
   ],
   "source": [
    "# Function to update the sine curve when changing the parameters with the sliders\n",
    "def update_sine_curve(x,amp,freq,phase):\n",
    "    sine_curve = amp * np.sin(2 * np.pi * (freq * x + phase))\n",
    "    RMSE = np.sqrt(((sine_curve - yk) ** 2).mean())\n",
    "    return sine_curve,RMSE\n",
    "\n",
    "# Function to update the figure when changing the parameters with the sliders\n",
    "def update_figure(change):\n",
    "    sine_curve.y = update_sine_curve(x,amp.value,freq.value,phase.value)[0]\n",
    "    RMSE = update_sine_curve(x,amp.value,freq.value,phase.value)[1]\n",
    "    if RMSE == 0:\n",
    "        fig.title = 'RMSE = ' +str(\"%.2f\" % RMSE)+' Well done!!!'\n",
    "    else:\n",
    "        fig.title = 'RMSE = ' +str(\"%.2f\" % RMSE)\n",
    "\n",
    "# Definition of the sliders\n",
    "amp = widgets.FloatSlider(min=1,max=15,value=8, description = 'Amplitude: ')\n",
    "amp.observe(update_figure,'value')\n",
    "phase = widgets.FloatSlider(min=0,max=1,value=0.5, description = 'Phase: ')\n",
    "phase.observe(update_figure,'value')\n",
    "freq = widgets.FloatSlider(min=1,max=10,value=5.5, description = 'Frequency: ')\n",
    "freq.observe(update_figure,'value')\n",
    "\n",
    "### Figure ###\n",
    "# First, let's create a scale for the x attribute, and a scale for the y attribute\n",
    "x_sc = plt.LinearScale(min=0,max=1)\n",
    "y_sc = plt.LinearScale(min=-20,max=20)\n",
    "# Then we can define some of the features of the plot axes such as their labels.\n",
    "x_ax = plt.Axis(label='x', scale=x_sc)\n",
    "y_ax = plt.Axis(label='y', scale=y_sc, orientation='vertical')\n",
    "fig = plt.figure(scales={'x': x_sc, 'y': y_sc}, axes=[x_ax, y_ax], \n",
    "                   title = 'RMSE = '+str(\"%.2f\" % update_sine_curve(x,amp.value,freq.value,phase.value)[1]), \n",
    "                   layout={'min_width': '900px', 'max_height': '300px'}, animation_duration = 1000)\n",
    "sine_curve = plt.plot(x,update_sine_curve(x,amp.value,freq.value,phase.value)[0])\n",
    "plt.plot(xk,yk,'k', label = 'sound wave')\n",
    "plt.xlim(0,1)\n",
    "plt.ylim(-20,20)\n",
    "sine_curve.observe(update_figure, ['x', 'y'])\n",
    "widgets.VBox([amp, freq, phase,fig])"
   ]
  },
  {
   "cell_type": "markdown",
   "metadata": {},
   "source": [
    "## How to share this Notebook online\n",
    "Threre are many options to share your Jupyter Notebooks online but here we present only three of them.\n",
    "\n",
    "### Option 1: GitHub + MyBinder\n",
    "Step 1: you need to have GitHub account. If you don't, you can easily create one on https://github.com/\n",
    "\n",
    "Step 2: name the repo \"Sharing-Notebooks-Online\". If you'd like a different name, feel free to name it something else; just keep in mind that we will use this repo name in later parts of the tutorial.\n",
    "\n",
    "Step 3: once you are inside of this repository click on \"Upload files\" and then choose all the files and subfolder contained in the folder \"WR demo\"\n",
    "\n",
    "Second, you need to create a txt file listing all the libraries required, in this case:\n",
    "\n",
    "numpy\n",
    "\n",
    "ipywidgets\n",
    "\n",
    "bqplot\n",
    "\n",
    "We then save the file in the same folder where our Notebook is."
   ]
  },
  {
   "cell_type": "markdown",
   "metadata": {},
   "source": [
    "### Option 2: Stand alone webpage\n",
    "<left><img src=\"Images/Tutorial_image_1.png\" width=\"800px\">"
   ]
  },
  {
   "cell_type": "markdown",
   "metadata": {},
   "source": [
    "#### Installs nbinteract\n",
    "pip install nbinteract\n",
    "\n",
    "#### Initializes nbinteract. When prompted, create a requirements.txt file. Since we aren't adding additional packages in this tutorial, re-run the command to finish initialization.\n",
    "nbinteract init\n",
    "\n",
    "git add -A\n",
    "\n",
    "git commit -m \"Setup nbinteract\"\n",
    "\n",
    "git push origin master\n",
    "\n",
    "nbinteract WR_demo.ipynb\n",
    "\n",
    "git config --global user.email \"you@example.com\"\n",
    "\n",
    "git config --global user.name \"Your username\"\n",
    "\n",
    "git add -A\n",
    "\n",
    "git commit -m \"Publish nb\"\n",
    "\n",
    "git push origin master\n",
    "\n",
    "https://{username}.github.io/Sharing-Notebooks-Online/WR_demo.html\n",
    "\n",
    "Where {username} is replaced with your GitHub username. For example:\n",
    "\n",
    "https://andrespenuela.github.io/Sharing-Notebooks-Online/WR_demo.html"
   ]
  },
  {
   "cell_type": "raw",
   "metadata": {},
   "source": []
  },
  {
   "cell_type": "markdown",
   "metadata": {},
   "source": [
    "### Option 3: Microsoft Azure Notebooks"
   ]
  },
  {
   "cell_type": "code",
   "execution_count": null,
   "metadata": {},
   "outputs": [],
   "source": []
  }
 ],
 "metadata": {
  "kernelspec": {
   "display_name": "Python 3",
   "language": "python",
   "name": "python3"
  },
  "language_info": {
   "codemirror_mode": {
    "name": "ipython",
    "version": 3
   },
   "file_extension": ".py",
   "mimetype": "text/x-python",
   "name": "python",
   "nbconvert_exporter": "python",
   "pygments_lexer": "ipython3",
   "version": "3.6.5"
  },
  "varInspector": {
   "cols": {
    "lenName": 16,
    "lenType": 16,
    "lenVar": 40
   },
   "kernels_config": {
    "python": {
     "delete_cmd_postfix": "",
     "delete_cmd_prefix": "del ",
     "library": "var_list.py",
     "varRefreshCmd": "print(var_dic_list())"
    },
    "r": {
     "delete_cmd_postfix": ") ",
     "delete_cmd_prefix": "rm(",
     "library": "var_list.r",
     "varRefreshCmd": "cat(var_dic_list()) "
    }
   },
   "types_to_exclude": [
    "module",
    "function",
    "builtin_function_or_method",
    "instance",
    "_Feature"
   ],
   "window_display": false
  }
 },
 "nbformat": 4,
 "nbformat_minor": 2
}
